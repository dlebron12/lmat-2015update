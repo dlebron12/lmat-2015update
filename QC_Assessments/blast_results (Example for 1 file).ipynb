{
 "cells": [
  {
   "cell_type": "code",
   "execution_count": 246,
   "metadata": {
    "collapsed": false
   },
   "outputs": [
    {
     "data": {
      "text/plain": [
       "'/Users/lebronaldea1/Downloads'"
      ]
     },
     "execution_count": 246,
     "metadata": {},
     "output_type": "execute_result"
    }
   ],
   "source": [
    "%pwd"
   ]
  },
  {
   "cell_type": "code",
   "execution_count": 308,
   "metadata": {
    "collapsed": true
   },
   "outputs": [],
   "source": [
    "# Module Imports\n",
    "import pandas as pd\n",
    "import re\n",
    "import sys\n",
    "import numpy as npd\n",
    "import collections"
   ]
  },
  {
   "cell_type": "code",
   "execution_count": 247,
   "metadata": {
    "collapsed": true
   },
   "outputs": [],
   "source": [
    "#READ ALL OF THESE FILES ONCE \n",
    "wd_tax=\"/usr/mic/post1/metagenomics/ref_sets/fasta/01012015update/taxonomy/2017tax/\"\n",
    "#Human Genes accession\n",
    "#to check if gene is human\n",
    "#loc of file: wd_tax + \"human_gene_accession\"\n",
    "human_genes=pd.read_table(\"human_gene_accession\",header=None)\n",
    "\n",
    "#accession to taxid\n",
    "#loc of file: wd_tax + \"nucl_gb.accession2taxid\"\n",
    "acc_to_tax=pd.read_table('nucl_gb.accession2taxid')\n",
    "\n",
    "#taxinfo\n",
    "#to check if taxid is from an eukaryota\n",
    "#loc of file: wd_tax + 'categories.dmp'\n",
    "taxid_to_k=pd.read_table(\"categories.dmp\", header=None, names=[\"Domain\",\"sptaxid\",\"taxid\"])"
   ]
  },
  {
   "cell_type": "code",
   "execution_count": 369,
   "metadata": {
    "collapsed": false
   },
   "outputs": [],
   "source": [
    "#Get taxonomy information\n",
    "taxnames=pd.read_table('names.dmp.txt', header=None, names=[\"taxid\",\"\",\"name\",\"\",\"variant\",\"\",\"name_class\",\"\"])"
   ]
  },
  {
   "cell_type": "code",
   "execution_count": 355,
   "metadata": {
    "collapsed": false
   },
   "outputs": [],
   "source": [
    "taxnames=taxnames[[\"taxid\",\"name\",\"name_class\"]].loc[taxnames[\"name_class\"]==\"scientific name\"]"
   ]
  },
  {
   "cell_type": "code",
   "execution_count": 248,
   "metadata": {
    "collapsed": false
   },
   "outputs": [],
   "source": [
    "\n",
    "#find a way to get the original file !!!!!IMPORTANT\n",
    "\n",
    "#to get input name : sys.argv\n",
    "file=\"874244.fa.frag.cleaned.db.humanid.9606.fna.fasta.txt\"\n",
    "seqid=file.split(\".\")[0]\n",
    "threshold= 1e-10\n",
    "\n",
    "#Get sequence information from catalog\n",
    "catalog=pd.read_table(\"catalog.prot.txt\", header=None, names=[\"name\",\"seqid\",\"taxid\"])\n",
    "catalog[\"seqid\"]=catalog[\"seqid\"].astype(str)\n",
    "seq_taxid=catalog[\"taxid\"][catalog[\"seqid\"]==seqid][0]"
   ]
  },
  {
   "cell_type": "code",
   "execution_count": 249,
   "metadata": {
    "collapsed": false
   },
   "outputs": [],
   "source": [
    "#Retrieve information from file\n",
    "info=[]\n",
    "frag=0 #Number of fragments\n",
    "with open(file) as fp:\n",
    "    for line in fp:\n",
    "        match=re.search(r'^seq.(\\d+)',line)\n",
    "        if match:\n",
    "            frag+=1\n",
    "            seq_frag=match.group(1)\n",
    "            components=line.split('\\t')\n",
    "            match2=re.search('gi\\|\\d+\\|(.*?)\\|(.*?)\\|',components[1])\n",
    "            accgene=match2.group(2)\n",
    "            evalue=components[10]\n",
    "            info.append([int(seq_frag),accgene,float(evalue)])\n",
    "\n",
    "df=pd.DataFrame(info,columns=['frag','accession','evalue'])\n",
    "#Keep significant e-values and examine\n",
    "df=df[df['evalue'] <= threshold]\n",
    "\n",
    "#check if any true then there are some human genes \n",
    "check=df['accession'].isin(human_genes[0])\n",
    "\n",
    "if(any(check)==True):\n",
    "    delete=list(set(df[\"frag\"][check]))\n",
    "else:\n",
    "    delete=[]\n"
   ]
  },
  {
   "cell_type": "markdown",
   "metadata": {},
   "source": [
    "## Check if Eukaryota\n",
    "### use acc_to_tax to get taxid and taxid_to_k to check if eukaryota"
   ]
  },
  {
   "cell_type": "code",
   "execution_count": 251,
   "metadata": {
    "collapsed": false
   },
   "outputs": [],
   "source": [
    "#Get  the taxid\n",
    "set_acc=set(df[\"accession\"])\n",
    "indices=[i for i, item in enumerate(acc_to_tax['accession.version']) if item in set_acc]\n",
    "gene_taxid=list(acc_to_tax['taxid'][indices].astype(int))\n",
    "\n",
    "# Get domain for each taxid\n",
    "index_dict = dict((value, idx) for idx,value in enumerate(taxid_to_k['taxid']))\n",
    "indices_dom=[index_dict[x] for x in gene_taxid]\n",
    "gene_domain=taxid_to_k['Domain'][indices_dom]  \n",
    "gene_info=pd.DataFrame(np.column_stack([list(acc_to_tax['accession.version'][indices]),gene_taxid,gene_domain]), columns=['gene.acc','taxid','Domain'])\n",
    "\n"
   ]
  },
  {
   "cell_type": "code",
   "execution_count": 291,
   "metadata": {
    "collapsed": false
   },
   "outputs": [],
   "source": [
    "#If the seq_taxid is one of the matches then we can erase from the list, we are trying to report the false positives\n",
    "check=seq_taxid in gene_info[\"taxid\"]\n",
    "if check:\n",
    "    gene_info=gene_info.loc[gene_info[\"taxid\"] != seq_taxid]\n",
    "\n",
    "#Remove the Eukaryota Fragments from the original file\n",
    "euk_frag=list(set(df[df[\"accession\"].isin(gene_info[\"gene.acc\"].tolist())][\"frag\"].tolist()))\n",
    "\n",
    "delete=delete+euk_frag #add the human fragments\n",
    "##gene_info.loc[gene_info[\"Domain\"]==\"E\"][\"gene.acc\"].tolist()"
   ]
  },
  {
   "cell_type": "code",
   "execution_count": 367,
   "metadata": {
    "collapsed": false
   },
   "outputs": [],
   "source": [
    "#how many fragments were labeled as that gene\n",
    "pairs=set(list(zip(df[\"frag\"], df[\"accession\"])))\n",
    "counts=dict()\n",
    "for pair in pairs:\n",
    "    #pair[1]=gene_name\n",
    "    if pair[1] not in counts:\n",
    "        counts[pair[1]]=1\n",
    "    else:\n",
    "        counts[pair[1]]+=1\n",
    "\n",
    "gene_info[\"counts\"]=[counts[gene] for gene in gene_info[\"gene.acc\"]]\n",
    "\n",
    "# get taxname for taxid of genes.\n",
    "gene_info[\"tax_name\"]=[taxnames[\"name\"][taxnames[\"taxid\"]==taxid].tolist()[0] for taxid in gene_info[\"taxid\"]]\n",
    "#Print report\n",
    "#Report file - ?Report removed sequences?\n",
    "gene_info.to_csv(seqid+\"_blast.report.txt\", index=None, sep=' ', mode='a')"
   ]
  },
  {
   "cell_type": "code",
   "execution_count": 370,
   "metadata": {
    "collapsed": false
   },
   "outputs": [
    {
     "data": {
      "text/html": [
       "<div>\n",
       "<table border=\"1\" class=\"dataframe\">\n",
       "  <thead>\n",
       "    <tr style=\"text-align: right;\">\n",
       "      <th></th>\n",
       "      <th>gene.acc</th>\n",
       "      <th>taxid</th>\n",
       "      <th>Domain</th>\n",
       "      <th>counts</th>\n",
       "      <th>tax_name</th>\n",
       "    </tr>\n",
       "  </thead>\n",
       "  <tbody>\n",
       "    <tr>\n",
       "      <th>0</th>\n",
       "      <td>X55786.1</td>\n",
       "      <td>3555</td>\n",
       "      <td>E</td>\n",
       "      <td>1</td>\n",
       "      <td>Beta vulgaris subsp. vulgaris</td>\n",
       "    </tr>\n",
       "    <tr>\n",
       "      <th>1</th>\n",
       "      <td>M57478.1</td>\n",
       "      <td>3888</td>\n",
       "      <td>E</td>\n",
       "      <td>1</td>\n",
       "      <td>Pisum sativum</td>\n",
       "    </tr>\n",
       "    <tr>\n",
       "      <th>2</th>\n",
       "      <td>D37958.1</td>\n",
       "      <td>3750</td>\n",
       "      <td>E</td>\n",
       "      <td>1</td>\n",
       "      <td>Malus domestica</td>\n",
       "    </tr>\n",
       "    <tr>\n",
       "      <th>3</th>\n",
       "      <td>Y12731.1</td>\n",
       "      <td>3906</td>\n",
       "      <td>E</td>\n",
       "      <td>1</td>\n",
       "      <td>Vicia faba</td>\n",
       "    </tr>\n",
       "    <tr>\n",
       "      <th>4</th>\n",
       "      <td>AJ130748.1</td>\n",
       "      <td>3262</td>\n",
       "      <td>E</td>\n",
       "      <td>1</td>\n",
       "      <td>Equisetum hyemale</td>\n",
       "    </tr>\n",
       "  </tbody>\n",
       "</table>\n",
       "</div>"
      ],
      "text/plain": [
       "     gene.acc taxid Domain  counts                       tax_name\n",
       "0    X55786.1  3555      E       1  Beta vulgaris subsp. vulgaris\n",
       "1    M57478.1  3888      E       1                  Pisum sativum\n",
       "2    D37958.1  3750      E       1                Malus domestica\n",
       "3    Y12731.1  3906      E       1                     Vicia faba\n",
       "4  AJ130748.1  3262      E       1              Equisetum hyemale"
      ]
     },
     "execution_count": 370,
     "metadata": {},
     "output_type": "execute_result"
    }
   ],
   "source": [
    "gene_info.head()"
   ]
  },
  {
   "cell_type": "markdown",
   "metadata": {},
   "source": [
    "## Create fasta v2"
   ]
  },
  {
   "cell_type": "code",
   "execution_count": 303,
   "metadata": {
    "collapsed": false
   },
   "outputs": [],
   "source": [
    "#Re-write the frag file without the eukaryota and human fragments\n",
    "f=open(seqid+'.fa.frag.txt',\"r\")\n",
    "p=open(seqid+'_v2.fa.frag',\"w\")\n",
    "#Add line specifying how many human genes were found:\n",
    "notice=\"Human fragments=\"+len(delete)+\",Proportion:\"+round(len(delete)/float(frag),4)+\"\\n\"\n",
    "p.write(notice)\n",
    "\n",
    "for line in f:\n",
    "    match=re.search('^>seq.(\\d+)',line)\n",
    "    if match and int(match.group(1)) in delete: \n",
    "        next(f)\n",
    "        #next #skips sequence line\n",
    "    else:\n",
    "        p.write(line)\n",
    "f.close()"
   ]
  }
 ],
 "metadata": {
  "anaconda-cloud": {},
  "kernelspec": {
   "display_name": "Python [Root]",
   "language": "python",
   "name": "Python [Root]"
  },
  "language_info": {
   "codemirror_mode": {
    "name": "ipython",
    "version": 3
   },
   "file_extension": ".py",
   "mimetype": "text/x-python",
   "name": "python",
   "nbconvert_exporter": "python",
   "pygments_lexer": "ipython3",
   "version": "3.5.2"
  }
 },
 "nbformat": 4,
 "nbformat_minor": 0
}
