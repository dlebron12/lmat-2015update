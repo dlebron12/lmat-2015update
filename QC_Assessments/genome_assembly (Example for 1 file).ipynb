{
 "cells": [
  {
   "cell_type": "markdown",
   "metadata": {
    "collapsed": true
   },
   "source": [
    "### Part of code- Rest will be uploaded soon\n",
    "\n",
    "#### the task is to read in the sequence reads, identify overlaps between them and then reconstruct the genomic sequence from the overlapping reads.\n"
   ]
  },
  {
   "cell_type": "markdown",
   "metadata": {},
   "source": [
    "## Assumptions:\n",
    "\n",
    "- No sequencing errors implying that overlaps between reads are perfect matches.\n",
    "- Fragments are overlapping sequences in order.\n",
    "- The only way that there wont be an overlap will be if we had removed 4 consecutive fragments from file\n",
    "    ***account for this\n"
   ]
  },
  {
   "cell_type": "code",
   "execution_count": 4,
   "metadata": {
    "collapsed": false
   },
   "outputs": [
    {
     "name": "stdout",
     "output_type": "stream",
     "text": [
      "874244.fa.frag\r\n",
      "874244_v2.fa.frag\r\n"
     ]
    }
   ],
   "source": [
    "#all_protozoa.dir/874244\n",
    "%ls -1 *.frag"
   ]
  },
  {
   "cell_type": "code",
   "execution_count": 94,
   "metadata": {
    "collapsed": false
   },
   "outputs": [
    {
     "data": {
      "text/plain": [
       "['TAATCTCACTCAGAGGGGGTTTGTTTTGAATATTAAGATAATCTCACTCAGAGGGGGTTTGTTTTGAATATTAAGATAATCTCACTCAGAGGGGGTTTGTTTTGAATATTAAGATAATCTCACTCAGAGGGGGTTTGTTTTGAATATTAAGATAATCTCACTCAGAGGGGGTTTGTTTTGAATATTAAGATAATCTCACT',\n",
       " 'GAGGGGGTTTGTTTTGAATATTAAGATAATCTCACTCAGAGGGGGTTTGTTTTGAATATTAAGATAATCTCACTCAGAGGGGGTTTGTTTTGAATATTAAGATAATCTCACTCAGAGGGGGTTTGTTTTGAATATTAAGATAATCTCACTCAGAGGGGGTTTGTTTTGAATATTAAGATAATCTCACTCAGAGGGGGTTT',\n",
       " 'TTTGAATATTAAGATAATCTCACTCAGAGGGGGTTTGTTTTGAATATTAAGATAATCTCACTCAGAGGGGGTTTGTTTTGAATATTAAGATAATCTCACTCAGAGGGGGTTTGTTTTGAATATTAAGATAATCTCACTCAGAGGGGGTTTGTTTTGAATATTAAGATAATCTCACTCAGAGGGGGTTTGTTTTGAATATT',\n",
       " 'GATAATCTCACTCAGAGGGGGTTTGTTTTGAATATTAAGATAATCTCACTCAGAGGGGGTTTGTTTTGAATATTAAGATAATCTCACTCAGAGGGGGTTTGTTTTGAATATTAAGATAATCTCACTCAGAGGGGGTTTGTTTTGAATATTAAGATAATCTCACTCAGAGGGGGTTTGTTTTGAATATTAAGATAATCTCA',\n",
       " 'CAGAGGGGGTTTGTTTTGAATATTAAGATAATCTCACTCAGAGGGGGTTTGTTTTGAATATTAAGATAATCTCACTCAGAGGGGGTTTGTTTTGAATATTAAGATAATCTCACTCAGAGGGGGTTTGTTTTGAATATTAAGATAATCTCACTCAGAGGTAGCAGGAATTGAACCCACAACATTAACTTTGGAAGATAATA',\n",
       " 'GTTTTGAATATTAAGATAATCTCACTCAGAGGGGGTTTGTTTTGAATATTAAGATAATCTCACTCAGAGGGGGTTTGTTTTGAATATTAAGATAATCTCACTCAGAGGTAGCAGGAATTGAACCCACAACATTAACTTTGGAAGATAATATTTTACCTTTAAACTATACCTCTAAAACGCCGATAAGGAGAATCGAACTC',\n",
       " 'AAGATAATCTCACTCAGAGGGGGTTTGTTTTGAATATTAAGATAATCTCACTCAGAGGTAGCAGGAATTGAACCCACAACATTAACTTTGGAAGATAATATTTTACCTTTAAACTATACCTCTAAAACGCCGATAAGGAGAATCGAACTCCTATTTTTAGATTGACAATCTAAAGCTTTAACCATTAAGCTATATCAGCA',\n",
       " 'CTCAGAGGTAGCAGGAATTGAACCCACAACATTAACTTTGGAAGATAATATTTTACCTTTAAACTATACCTCTAAAACGCCGATAAGGAGAATCGAACTCCTATTTTTAGATTGACAATCTAAAGCTTTAACCATTAAGCTATATCAGCACAAAGATAGGCTAAAATAGATTCGAACTATCAACCCCATCATTATCAATG',\n",
       " 'TTTTACCTTTAAACTATACCTCTAAAACGCCGATAAGGAGAATCGAACTCCTATTTTTAGATTGACAATCTAAAGCTTTAACCATTAAGCTATATCAGCACAAAGATAGGCTAAAATAGATTCGAACTATCAACCCCATCATTATCAATGATGTGCTCCACCATTAAGCTATTAGCCTATAAAATTATAACATTTATAAA',\n",
       " 'CTATTTTTAGATTGACAATCTAAAGCTTTAACCATTAAGCTATATCAGCACAAAGATAGGCTAAAATAGATTCGAACTATCAACCCCATCATTATCAATGATGTGCTCCACCATTAAGCTATTAGCCTATAAAATTATAACATTTATAAAAAACAATGACAAATAATCTGAATACAAAAAATAATAAAAAAGAGTAAAAA']"
      ]
     },
     "execution_count": 94,
     "metadata": {},
     "output_type": "execute_result"
    }
   ],
   "source": [
    "def Readfile(fileName):\n",
    "    with open(fileName) as f:\n",
    "        return [line.rstrip(\"\\n\") for line in f if not line.startswith(\">\")]\n",
    "\n",
    "\n",
    "frag_file= \"874244_v2.fa.frag\"\n",
    "reads = Readfile(frag_file)\n",
    "reads[0:10]"
   ]
  },
  {
   "cell_type": "code",
   "execution_count": 84,
   "metadata": {
    "collapsed": false
   },
   "outputs": [],
   "source": [
    "def Assemble_genome(left, right):\n",
    "    #computes overlap between two fragments\n",
    "    for i in range(len(left)):\n",
    "        if left[i:] == right[:len(left)-i]:\n",
    "            #there is an overlap here: left[i:]\n",
    "            return left[0:i-1]+left[i:]+right[len(left)-i:]\n",
    "    return ''"
   ]
  },
  {
   "cell_type": "code",
   "execution_count": 89,
   "metadata": {
    "collapsed": false
   },
   "outputs": [],
   "source": [
    "#get first overlap\n",
    "import time\n",
    "t0 = time.time()\n",
    "genome=reads[0]\n",
    "for i in range(1,len(reads)):\n",
    "    genome=Assemble_genome(genome,reads[i])\n",
    "genome\n",
    "t1=time.time()\n",
    "total = t1-t0"
   ]
  },
  {
   "cell_type": "code",
   "execution_count": 90,
   "metadata": {
    "collapsed": false
   },
   "outputs": [
    {
     "data": {
      "text/plain": [
       "1023"
      ]
     },
     "execution_count": 90,
     "metadata": {},
     "output_type": "execute_result"
    }
   ],
   "source": [
    "len(reads)"
   ]
  },
  {
   "cell_type": "code",
   "execution_count": 91,
   "metadata": {
    "collapsed": false
   },
   "outputs": [
    {
     "data": {
      "text/plain": [
       "30.7604820728302"
      ]
     },
     "execution_count": 91,
     "metadata": {},
     "output_type": "execute_result"
    }
   ],
   "source": [
    "total"
   ]
  },
  {
   "cell_type": "code",
   "execution_count": 92,
   "metadata": {
    "collapsed": false
   },
   "outputs": [
    {
     "data": {
      "text/plain": [
       "49859"
      ]
     },
     "execution_count": 92,
     "metadata": {},
     "output_type": "execute_result"
    }
   ],
   "source": [
    "len(genome)"
   ]
  }
 ],
 "metadata": {
  "anaconda-cloud": {},
  "kernelspec": {
   "display_name": "Python [conda root]",
   "language": "python",
   "name": "conda-root-py"
  },
  "language_info": {
   "codemirror_mode": {
    "name": "ipython",
    "version": 2
   },
   "file_extension": ".py",
   "mimetype": "text/x-python",
   "name": "python",
   "nbconvert_exporter": "python",
   "pygments_lexer": "ipython2",
   "version": "2.7.12"
  }
 },
 "nbformat": 4,
 "nbformat_minor": 2
}
